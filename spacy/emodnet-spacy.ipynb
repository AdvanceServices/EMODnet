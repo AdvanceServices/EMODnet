{
 "cells": [
  {
   "cell_type": "code",
   "execution_count": 31,
   "metadata": {},
   "outputs": [],
   "source": [
    "\n",
    "import spacy\n",
    "import pandas as pd\n",
    "import json\n",
    "import os\n"
   ]
  },
  {
   "cell_type": "code",
   "execution_count": 158,
   "metadata": {},
   "outputs": [],
   "source": [
    "df=pd.read_csv(\"dictionaries\\Distribution_descriptors.csv\",header=None)\n",
    "df1=pd.read_csv(\"dictionaries\\Life_stages.csv\",header=None)\n",
    "df2=pd.read_csv(\"dictionaries\\Body_size.csv\",header=None)\n",
    "#df3=pd.read_csv(\"dictionaries\\biological_descriptors.csv\",header=None,encoding='cp1252')\n",
    "\n",
    "df_distr_descr=df.iloc[:,0]\n",
    "df_life_stages=df1.iloc[:,0]\n",
    "df_body_size=df2.iloc[:,0]\n",
    "#df_biol_descr=df3.iloc[:,0]\n",
    "#to lige stages ousiastika einai mesa sta biological descriptors\n",
    "\n"
   ]
  },
  {
   "cell_type": "code",
   "execution_count": 159,
   "metadata": {},
   "outputs": [
    {
     "name": "stdout",
     "output_type": "stream",
     "text": [
      "Artificial (man-made)\n"
     ]
    },
    {
     "data": {
      "text/plain": [
       "6"
      ]
     },
     "execution_count": 159,
     "metadata": {},
     "output_type": "execute_result"
    }
   ],
   "source": [
    "from spacy.pipeline import EntityRuler\n",
    "from spacy.lang.en import English\n",
    "\n",
    "#nlp=English()\n",
    "#arxikopoihsh tou nlp kai entity ruler\n",
    "nlp=spacy.blank(\"en\")\n",
    "ruler=nlp.add_pipe(\"entity_ruler\")\n",
    "\n",
    "def dict_func(df,linkdf,label):\n",
    "    patterns=[]\n",
    "    j=0\n",
    "    for i in df:\n",
    "        dict={\"label\":label}\n",
    "        dict[\"pattern\"]=i #[{\"LOWER\" : str.lower(i)}]\n",
    "        print(str.lower(i))\n",
    "        dict[\"id\"]=linkdf[[1]][1][j]\n",
    "        patterns.append(dict)\n",
    "        j=j+1\n",
    "    ruler.add_patterns(patterns)\n",
    "\n",
    "# def dict_func(df,linkdf,label):\n",
    "#     patterns=[]\n",
    "#     j=0\n",
    "#     for i in df:\n",
    "#         dict={\"label\":label}\n",
    "#         dict[\"pattern\"]=[{\"LOWER\" : {\"REGEX\": str.lower(i) }}] #+ \"?\" to ? sto telos tou string dinei dunatothta na pianei oles tis pithanes lekseis,alla kanei lathh,px gia to apples tha piasei kai to stapples h se emas apo to Mud tha piasei kai to museum ara de mas kanei,pros to paron vriskei oles tis dunates allages vash tou caps\n",
    "#         dict[\"id\"]=linkdf[[1]][1][j]\n",
    "#         patterns.append(dict)\n",
    "#         j=j+1\n",
    "#     ruler.add_patterns(patterns)\n",
    "\n",
    " \n",
    "tokenizer = nlp.tokenizer\n",
    "tokens = tokenizer(df_distr_descr[14])\n",
    "print(tokens)\n",
    "len(tokens)\n"
   ]
  },
  {
   "cell_type": "code",
   "execution_count": 160,
   "metadata": {},
   "outputs": [
    {
     "name": "stdout",
     "output_type": "stream",
     "text": [
      "abyssobenthic\n",
      "abyssal\n",
      "abyssopelagic\n",
      "alphamesohaline\n",
      "alpha-mesohaline\n",
      "alphaoligohaline\n",
      "alpha-oligohaline\n",
      "alpjapolyhaline\n",
      "alpha-polyhaline\n",
      "alphahaline\n",
      "alpha-haline\n",
      "anchialinecaves\n",
      "anchialine caves\n",
      "artificial\n",
      "artificial (man-made)\n",
      "bathybenthic\n",
      "bathybenthic (bathyal)\n",
      "bathylpelagic\n",
      "bathypelagic(1000-2500m)\n",
      "bedrock\n",
      "benthic\n",
      "benthopelagic\n",
      "betahaline\n",
      "beta-haline\n",
      "betamesohaline\n",
      "beta-mesohaline\n",
      "betaoligohaline\n",
      "beta-oligohaline\n",
      "betapolyhaline\n",
      "beta-polyhaline\n",
      "biogenicreef\n",
      "biogenic reef\n",
      "brackish\n",
      "brackishsalinity\n",
      "burrowdweller\n",
      "burrow dweller\n",
      "cave\n",
      "circalittoral\n",
      "circalittoraloffshore\n",
      "circalittoral offshore\n",
      "clay\n",
      "corarsecleansand\n",
      "coarse clean sand\n",
      "corarsesediments\n",
      "coarse sediments\n",
      "cobbles\n",
      "crevicesfissures\n",
      "crevices and fissures\n",
      "demersal\n",
      "depth\n",
      "depthsubstratum\n",
      "depth in substratum\n",
      "depthrange\n",
      "depth range\n",
      "elevation\n",
      "enclosedcoast\n",
      "encloast coast or embayment\n",
      "endophytic\n",
      "endozoic\n",
      "environment\n",
      "environmentalposition\n",
      "epibenthic\n",
      "epifununal\n",
      "epifloral\n",
      "epilithic\n",
      "epipelagic\n",
      "epipelagic(0-2000m)\n",
      "epipelic\n",
      "epiphytic\n",
      "epizooic\n",
      "estuary\n",
      "exposed\n",
      "extremelyexposed\n",
      "extremelysheltered\n",
      "featuresother\n",
      "features or other substratum\n",
      "finecleansand\n",
      "fine clean sand\n",
      "freshwayersalinity\n",
      "freshwater\n",
      "gravelshingle\n",
      "gravel or shingle\n",
      "gravellymud\n",
      "gravelly mud\n",
      "gravellymuddysand\n",
      "gravelly muddy sand\n",
      "gravellysand\n",
      "gravelly sand\n",
      "habitat\n",
      "habitatpreferences\n",
      "habitat preferences\n",
      "hadobenthic\n",
      "hadobenthic (hadal) \n",
      "hadopelagic\n",
      "hadopelagic (>6000 m) \n",
      "hard\n",
      "hypersaline\n",
      "hyper-saline \n",
      "hyperbenthic\n",
      "iceassociated\n",
      "ice-associated \n",
      "hardimmobile\n",
      "immobile hard \n",
      "infaunal\n",
      "infaunal\n",
      "infralittoral\n",
      "interstitial\n",
      "lagoon\n",
      "isolated saline water (lagoon) \n",
      "largeboulders\n",
      "large or vert large boulders\n",
      "lithotomous\n",
      "eulittoral\n",
      "littoral\n",
      "lowercircalittoral\n",
      "lower circalittoral\n",
      "lowerinfralittoral\n",
      "lower infralittoral\n",
      "lowerlittoral\n",
      "lower littoral\n",
      "lowerlittoralfringe\n",
      "lower littoral fringe\n",
      "macroalgae\n",
      "maer\n",
      "marine\n",
      "marinesalinity\n",
      "mediumcleansand\n",
      "medium clean sand\n",
      "mesohaline\n",
      "mesopelagic\n",
      "mesopelagic (200-1000m)\n",
      "mideulittoral\n",
      "mid littoral\n",
      "mixed\n",
      "hardmobile\n",
      "mobile hard\n",
      "moderatelyexposed\n",
      "moderately exposed\n",
      "moderatelystrong\n",
      "moderately strong\n",
      "mud\n",
      "mudsandymud\n",
      "mud and sandy mud\n",
      "muddygravel\n",
      "muddy gravel\n",
      "muddysand\n",
      "muddy sand\n",
      "muddysandygravel\n",
      "muddy sandy gravel\n",
      "nekton\n",
      "nektonic (nekton) \n",
      "neritic\n",
      "neustonic\n",
      "oceanic\n",
      "offshoreseabed\n",
      "offshore seabed\n",
      "oligohaline\n",
      "opencoast\n",
      "open coast\n",
      "otherspecies\n",
      "other species\n",
      "overhang\n",
      "pebbles\n",
      "pelagic\n",
      "physiography\n",
      "plankton\n",
      "planktonic (plankton)\n",
      "pleustonic\n",
      "polyhaline\n",
      "province\n",
      "riavoe\n",
      "ria or voe\n",
      "rockpools\n",
      "rockpool\n",
      "salinity\n",
      "salinity (regime)\n",
      "saltmarsh\n",
      "salt marsh\n",
      "sand\n",
      "sandmuddysand\n",
      "sand and muddy sand\n",
      "sandygravel\n",
      "sandy gravel\n",
      "sandymud\n",
      "sandy mud\n",
      "seaice\n",
      "sea ice\n",
      "sealoch\n",
      "sea loch (scotland)\n",
      "sea lough (ireland)\n",
      "seagrass\n",
      "sheltered\n",
      "smallboulders\n",
      "small boulders\n",
      "sedimentsoft\n",
      "soft (sediment)\n",
      "splashzone\n",
      "splash zone\n",
      "sprayzone\n",
      "spray zone\n",
      "straitsound\n",
      "strait or sound\n",
      "strandline\n",
      "strand-line\n",
      "strong\n",
      "strongsublittoral\n",
      "sublittoral\n",
      "sublittoralfringe\n",
      "sublittoral fringe\n",
      "substratumhabitat\n",
      "substratum\n",
      "supralittoral\n",
      "terrestrial\n",
      "tidalstrength\n",
      "tidal streams and water flow (range)\n",
      "tolerance\n",
      "type i\n",
      "type ii\n",
      "type iii\n",
      "type iv\n",
      "type v\n",
      "ultrasheltered\n",
      "ultra sheltered\n",
      "underboulders\n",
      "under boulders\n",
      "underice\n",
      "under ice\n",
      "uppercircalittoral\n",
      "upperinfralittoral\n",
      "uppereulittoral\n",
      "upper littoral\n",
      "upperlittoralfringe\n",
      "verticalbioogicalzone\n",
      "vertical biological zone\n",
      "veryexposed\n",
      "very exposed\n",
      "verysheltered\n",
      "very sheltered\n",
      "verystrong\n",
      "very strong\n",
      "veryweak\n",
      "very weak\n",
      "waveexposed\n",
      "wave exposed\n",
      "waveexposure\n",
      "wave exposure\n",
      "wavesheltered\n",
      "wave sheltered\n",
      "weak\n",
      "adult\n",
      "instar\n",
      "juvenile\n",
      "larva\n",
      "actinula\n",
      "amphiblastula\n",
      "ascidian tadpole\n",
      "auricularia\n",
      "bipinnaria\n",
      "brachiolaria\n",
      "conaria\n",
      "copepodid (copepodite)\n",
      "coronate\n",
      "cydippid\n",
      "cyphonautes\n",
      "cyprid (cypris)\n",
      "doliolaria\n",
      "echinopluteus\n",
      "ephyra\n",
      "glochidium\n",
      "goette's larva\n",
      "megalopa\n",
      "metanauplius\n",
      "mitraria\n",
      "muller's larva\n",
      "nauplius\n",
      "nectochaeta\n",
      "ophiopluteus\n",
      "parenchymella\n",
      "pediveliger\n",
      "pelagosphaera\n",
      "pilidium\n",
      "planula\n",
      "protonymphon\n",
      "protozoea\n",
      "rataria\n",
      "veliger\n",
      "zoea\n",
      "qualitative body size\n",
      "macrobiota [2.0 - 200 mm]\n",
      "megabiota [&gt]\n",
      "meiobiota [0.2 - 2.0 mm]\n",
      "microbiota [&lt]\n",
      "quantitative body size\n",
      "body length\n",
      "taxon specific body size\n",
      "diameter\n",
      "taxon specific body size: fish\n",
      "fork length (fl)\n",
      "standard length (sl)\n",
      "total length (tl)\n",
      "width of disc (wd)\n",
      "taxon specific body size: macroalgae\n",
      "width\n",
      "wingspan\n"
     ]
    }
   ],
   "source": [
    "dict_func(df_distr_descr,df,\"Distribution Descriptor\")\n",
    "dict_func(df_life_stages,df1,\"Life Stage\")\n",
    "dict_func(df_body_size,df2,\"Body Size\")\n",
    "#dict_func(df_biol_descr,\"Biological Descriptor\")\n"
   ]
  },
  {
   "cell_type": "code",
   "execution_count": 201,
   "metadata": {},
   "outputs": [
    {
     "name": "stdout",
     "output_type": "stream",
     "text": [
      "[('Salinity', 'Distribution Descriptor', 11, 19, 'https://www.marinespecies.org/traits/wiki/Traits:Salinity'), ('Marine', 'Distribution Descriptor', 30, 36, 'https://www.marinespecies.org/traits/wiki/Traits:Marine'), ('Alpha-Polyhaline', 'Distribution Descriptor', 61, 77, 'https://www.marinespecies.org/traits/wiki/Traits:AlphaPolyhaline'), ('Body length', 'Body Size', 78, 89, 'https://www.marinespecies.org/traits/wiki/Traits:Bodylength')]\n"
     ]
    }
   ],
   "source": [
    "#edw vazoume keimeno gia dictionary testing \n",
    "\n",
    "doc=nlp(\"Atherinids are small Marine estuary and freshwaters Alpha-Polyhaline Body length (SL) standard length (sl) fishes not exceeding 120 mm SL (a soon to be described species of Craterocephalus may reach 300 mm SL), occurring predominantly in the Old World, with only Alepidomus evermanni (freshwaters of Cuba) and two marine species, Atherinomorus stipes and Hypoatherina harringtonensis predominantly in the shore waters of the Caribbean) known from the New World. In the Southeast Pacific, the family is only known only from Tumaco, Colombia, according to Dyer. All freshwater atherinid species are derived from marine ancestors and until recently have only been known from the rivers of Australia, New Guinea and some islands in the vicinity of the latter.\")\n",
    "paper=nlp(\"(SL), head length and eye diameter. Counts were madeusingthetechniquerecommendedbyHubbs & Lagler (1958) so as to make comparisons with previously described atherinid species. Two speci�mens were cleared and stained usingthe method of Taylor (1967), Taylor & Vandyke (1985) and Dingerkus & Uhler (1977). These were measured and counted prior to clearing. Drawings were made with the assistance of a stereomicroscope. Osteological comparisons were made with repre�sentatives of marine Indo-Pacific atherinds and an atherionid (Table II). Specimens collected by H. Bleher�s party were deposited in the Australian Museum Sydney, those borrowed from the MNHN were returned to that institution. All of the specimens that have been examined are desig�nated as types.\")\n",
    "\n",
    "print([(ent.text, ent.label_ ,ent.start_char,ent.end_char, ent.ent_id_) for ent in doc.ents])\n"
   ]
  },
  {
   "cell_type": "code",
   "execution_count": 162,
   "metadata": {},
   "outputs": [],
   "source": [
    "import random\n",
    "import spacy.cli\n",
    "from spacy.tokens import DocBin\n",
    "from tqdm import tqdm"
   ]
  },
  {
   "cell_type": "code",
   "execution_count": 120,
   "metadata": {},
   "outputs": [],
   "source": [
    "TRAIN_DATA = [ (\"interations between infaunal species which can attain high densities within cages.\",{\"entities\":[(20,29,\"Distribution_descriptor\"),(76,81,\"Distribution_descriptor\")]}),\n",
    "(\"infauna, they also provide a good opportunity to study competitive or adult-larval \",{\"entities\":[(0,7,\"Distribution_descriptor\"),(70,75,\"Life_stage\"),(76,82,\"Life_stage\"),(70,82,\"Life_stage\")]}),\n",
    "(\" on \",{\"entities\":[]}),\n",
    "(\"influence of larger predators such as fish, crabs, and epibenthic predatory benthos on\",{\"entities\":[(76,84,\"Distribution_descriptor\"),(55,66,\"Distribution_descriptor\")]}),\n",
    "(\"with those in control plots. Although cages are most commonly used to assess the \",{\"entities\":[]}),\n",
    "(\"or in which densities of such adults are varied, and to compare the larval densities there \",{\"entities\":[(30,36,\"Life_stage\"),(68,75,\"Life_stage\")]}),\n",
    "(\"establish plots from which adults which may interact with settling larvae are removed \",{\"entities\":[(27,33,\"Life_stage\"),(67,73,\"Life_stage\")]}),\n",
    "(\"The basic procedure in field experiments examining adult-larval interactions is to \",{\"entities\":[(51,56,\"Life_stage\"),(57,63,\"Life_stage\"),(51,63,\"Life_stage\")]}),\n",
    "(\"and some islands in the vicinity of the latter.\",{\"entities\":[]}),\n",
    "(\"known from the rivers of Australia, New Guinea \",{\"entities\":[(15,22,\"Distribution_descriptor\")]}),\n",
    "(\"marine ancestors and until recently have only been \",{\"entities\":[(0,7,\"Distribution_descriptor\")]}),\n",
    "(\"All freshwater atherinid species are derived from \",{\"entities\":[(4,15,\"Distribution_descriptor\")]}),\n",
    "(\"from Tumaco, Colombia, according to Dyer. \",{\"entities\":[]}),\n",
    "(\"Southeast Pacific, the family is only known only \",{\"entities\":[]}),\n",
    "(\"Caribbean) known from the New World. In the \",{\"entities\":[]}),\n",
    "(\"(predominantly in the shore waters of the \",{\"entities\":[(22,34,\"Distribution_descriptor\")]}),\n",
    "(\"Atherinomorus stipes and Hypoatherina harringtonensis \",{\"entities\":[]}),\n",
    "(\"World, with only Alepidomus evermanni (freshwaters of Cuba) and two marine species, \",{\"entities\":[(39,51,\"Distribution_descriptor\"),(17,37,\"Distribution_descriptor\"),(68,74,\"Distribution_descriptor\")]}),\n",
    "(\"be described species of Craterocephalus may reach 300 mm SL), occurring predominantly in the Old \",{\"entities\":[(50,59,\"Body_size\"),(57,59,\"Body_size\"),(50,56,\"Body_size\")]}),\n",
    "(\"Atherinids are small marine, estuarine and freshwater fishes not exceeding 120 mm SL (a soon to \",{\"entities\":[(21,27,\"Distribution_descriptor\"),(29,39,\"Distribution_descriptor\"),(43,54,\"Distribution_descriptor\"),(82,84,\"Body_size\"),(75,81,\"Body_size\")]}),\n",
    "(\"lagoon population but a potential contribution to the genetic flux among coastal populations. \",{\"entities\":[(0,7,\"Distribution_descriptor\"),(73,81,\"Distribution_descriptor\")]}),\n",
    "(\"the estuarine larvae that drifted out of the lagoon seemed to survive, suggesting a loss of individuals from the \",{\"entities\":[(4,14,\"Distribution_descriptor\"),(14,21,\"Life_stage\"),(45,52,\"Distribution_descriptor\")]}),\n",
    "(\"CW to LR, possibly reducing their survival. Generally, eggs were more vulnerable to drift than larvae. Many of \",{\"entities\":[(0,2,\"Distribution_descriptor\"),(6,8,\"Distribution_descriptor\"),(55,60,\"Life_stage\"),(95,101,\"Life_stage\")]}),\n",
    "(\"when heavy rains led to severe lagoon discharges. Similarly, unusual strong onshore winds advected eggs from \",{\"entities\":[(5,16,\"Distribution_descriptor\"),(31,37,\"Distribution_descriptor\"),(76,89,\"Distribution_descriptor\"),(99,104,\"Life_stage\")]}),\n",
    "(\"larvae to LR. Eggs and larvae of estuarine species that spawned within LR were effectively retained there, except \",{\"entities\":[(0,6,\"Life_stage\"),(13,18,\"Life_stage\"),(22,29,\"Life_stage\"),(32,42,\"Distribution_descriptor\"),(70,73,\"Distribution_descriptor\")]}),\n",
    "(\"transport of these larvae into LR. Conversely, there was no evidence of entrance of marine estuarine-independent \",{\"entities\":[(19,25,\"Life_stage\"),(31,33,\"Distribution_descriptor\"),(91,100,\"Distribution_descriptor\"),(91,112,\"Distribution_descriptor\"),(84,90,\"Distribution_descriptor\")]}),\n",
    "(\"and light onshore winds during the open-sandbar period were the most important process that promoted the \",{\"entities\":[(40,47,\"Distribution_descriptor\"),(10,23,\"Distribution_descriptor\")]}),\n",
    "(\"abundance in CW. Sandbar closure did not impede the entrance of these species. Overwashing events (closed bar) \",{\"entities\":[(13,15,\"Distribution_descriptor\"),(17,24,\"Distribution_descriptor\")]}),\n",
    "(\"runoff) and species-specific traits (e.g. life cycle strategy, spawning season) determined ichthyoplankton exchange vs. retention. Marine estuarine-related species entered LR mostly during summer-autumn, at their peak \",{\"entities\":[(0,6,\"Distribution_descriptor\"),(91,106,\"Life_stage\"),(131,137,\"Distribution_descriptor\"),(138,147,\"Distribution_descriptor\"),(138,155,\"Distribution_descriptor\"),(172,174,\"Distribution_descriptor\")]}),\n",
    "(\"nursery ground. Larval stages of six marine species were found at CW. Environmental factors (e.g. wind and \",{\"entities\":[(16,23,\"Life_stage\"),(36,43,\"Distribution_descriptor\"),(64,66,\"Distribution_descriptor\"),(96,100,\"Distribution_descriptor\")]}),\n",
    "(\"exchange of water and ichthyoplankton. At least three estuarine species were found to spawn and use LR as a \",{\"entities\":[(12,17,\"Distribution_descriptor\"),(22,37,\"Life_stage\"),(54,64,\"Distribution_descriptor\"),(100,102,\"Distribution_descriptor\")]}),\n",
    "(\"conditions and ichthyoplankton communities between LR and CW, and also evidenced different mechanisms of \",{\"entities\":[(51,54,\"Distribution_descriptor\"),(57,59,\"Distribution_descriptor\")]}),\n",
    "(\"along a year in LR and CW to capture different sandbar states (open/closed) and lagoon-sea connectivity processes (e.g. lagoon discharges, marine intrusion, overwashing). Results showed differences in environmental \",{\"entities\":[(16,18,\"Distribution_descriptor\"),(23,25,\"Distribution_descriptor\"),(47,55,\"Distribution_descriptor\"),(80,90,\"Distribution_descriptor\"),(119,126,\"Distribution_descriptor\"),(137,144,\"Distribution_descriptor\")]}),\n",
    "(\"waters (CW), and the influence of that connection on ichthyoplankton assemblages. We performed field surveys \",{\"entities\":[(0,7,\"Distribution_descriptor\"),(8,10,\"Distribution_descriptor\")]}),\n",
    "(\"This study evaluated the connectivity between an intermittently closed-open lagoon (LR) and adjacent coastal \",{\"entities\":[(84,86,\"Body_size\"),(76,83,\"Distribution_descriptor\"),(101,108,\"Distribution_descriptor\"),(92,108,\"Distribution_descriptor\"),(64,82,\"Distribution_descriptor\"),(84,86,\"Distribution_descriptor\")]}),\n",
    "(\"spawned previously. A summary of the life-cycle is also \",{\"entities\":[]}),\n",
    "(\"indicated that some females in this sample had \",{\"entities\":[]}),\n",
    "(\"(8.8%). A few atretic oocytes and empty follicles \",{\"entities\":[]}),\n",
    "(\"stage (91.2%) or in the rst stage of vitellogenesis \",{\"entities\":[(37,51,\"Body_size\")]}),\n",
    "(\"and spermatozoa. Oocytes were in the previtellogenic \",{\"entities\":[]}),\n",
    "(\"sample were in a resting stage. Testes lacked spermatids \",{\"entities\":[]}),\n",
    "(\"histology indicated that the gonads of this November \",{\"entities\":[]}),\n",
    "(\"Although specimens were large and sexually mature, the \",{\"entities\":[]}),\n",
    "(\"index (IG) was 0.9% for females and 0.2% for males. \",{\"entities\":[]}),\n",
    "(\"1.6% for females and 1.7% for males; gonadosomatic \",{\"entities\":[]}),\n",
    "(\"relationship to W and LT. Hepatosomatic index (IH) was \",{\"entities\":[(16,17,\"Body_size\"),(22,24,\"Body_size\")]}),\n",
    "(\"showed no difference due to sex, but a signicant weak \",{\"entities\":[]}),\n",
    "(\"Subcutaneous lipid thickness averaged 2.6 mm and \",{\"entities\":[(19,29,\"Body_size\"),(38,44,\"Body_size\")]}),\n",
    "(\"26.7 kg (range 10.460.3 kg). The length-weight relationship was W=3.44 105 L2:85T (n 28, r2 0.96). \",{\"entities\":[(0,7,\"Body_size\"),(9,26,\"Body_size\"),(0,27,\"Body_size\"),(33,46,\"Body_size\"),(33,39,\"Body_size\"),(40,46,\"Body_size\"),(65,71,\"Body_size\"),(74,84,\"Body_size\")]}),\n",
    "(\"in McMurdo Sound, Antarctica. Total length (LT) averaged 127.3 cm (range 90162 cm) and weight (W) was \",{\"entities\":[(30,42,\"Body_size\"),(44,46,\"Body_size\"),(30,47,\"Body_size\"),(57,65,\"Body_size\"),(67,81,\"Body_size\"),(87,97,\"Body_size\"),(87,93,\"Body_size\"),(94,97,\"Body_size\")]}),\n",
    "(\"capture on a set line near the southern limit of its range \",{\"entities\":[]}),\n",
    "(\"Twenty-eight specimens of the large not othenioid Dissostichus mawsoni were dissected after \",{\"entities\":[]}),\n",
    "(\"species.\",{\"entities\":[]}),\n",
    "(\"appears to be influenced by conflicting selection pressures that may differ between the \",{\"entities\":[]}),\n",
    "(\"R. whero and competition for habitat in both species. Body size in the Ruanoho species \",{\"entities\":[(29,37,\"Distribution_descriptor\"),(54,63,\"Body_size\")]}),\n",
    "(\"size differences in the Ruanoho pair are consistent with female choice for smaller males in \",{\"entities\":[(0,5,\"Body_size\")]}),\n",
    "(\"while female R. decemdigitatus had no preference for male size. Results suggest that body \",{\"entities\":[(58,62,\"Body_size\")]}),\n",
    "(\"in heterospecific trials. Female R. where showed a strong preference for smaller males, \",{\"entities\":[]}),\n",
    "(\"a subset of that displayed by R. decemdigitatus, while no mating behaviour was observed \",{\"entities\":[(58,64,\"Distribution_descriptor\")]}),\n",
    "(\"R. whero were displaced into less preferred habitats. Courtship behaviour in R. whero was \",{\"entities\":[(44,52,\"Distribution_descriptor\")]}),\n",
    "(\"dominant in inter- and intraspecific contests for the preferred rock habitat, while small \",{\"entities\":[(64,76,\"Distribution_descriptor\")]}),\n",
    "(\"trials. Both species exhibited similar habitat preferences, but large R. decemdigitatus were \",{\"entities\":[(39,47,\"Distribution_descriptor\"),(39,58,\"Distribution_descriptor\"),(64,70,\"Body_size\")]}),\n",
    "(\"setting. Reproductive behaviour was assessed in courtship, mate choice and hybridisation \",{\"entities\":[(9,31,\"Distribution_descriptor\"),(48,57,\"Distribution_descriptor\"),(75,88,\"Distribution_descriptor\")]}),\n",
    "(\"trials based on the field data to test habitat preference and competitive ability in a common \",{\"entities\":[(39,47,\"Distribution_descriptor\")]}),\n",
    "(\"substratum. The effect of body size on substratum use was investigated using laboratory \",{\"entities\":[(0,10,\"Distribution_descriptor\"),(26,35,\"Body_size\"),(39,50,\"Distribution_descriptor\")]}),\n",
    "(\"20 m. In sites where the species co-occurred, R. whero was less associated with rock \",{\"entities\":[(0,4,\"Body_size\"),(80,84,\"Distribution_descriptor\")]}),\n",
    "(\"while R. whero was frequently found in sheltered to moderately exposed areas down to \",{\"entities\":[]}),\n",
    "(\"distributions and differ in body size, attaining a total length of 12 cm and 9 cm, respectively. R. decemdigitatus was most commonly found in sheltered areas shallower than 5 m, \",{\"entities\":[(28,37,\"Body_size\"),(51,63,\"Body_size\"),(67,72,\"Body_size\"),(77,81,\"Body_size\"),(51,72,\"Body_size\"),(51,81,\"Body_size\"),(142,157,\"Distribution_descriptor\")]}),\n",
    "(\"New Zealand. Ruanoho decemdigitatus and Ruanoho whero have overlapping sympatric \",{\"entities\":[]}),\n",
    "(\"The effect of body size on spatial resource competition and reproductive isolation was examined in a sister species pair of subtidal triplefin fishes (F. Tripterygiidae) in \",{\"entities\":[(14,23,\"Body_size\")]}),\n",
    "(\"fin height and eye size, which are invariably greater in P. muelleri. \",{\"entities\":[(4,11,\"Body_size\"),(15,23,\"Body_size\")]}),\n",
    "(\"albilabris are similar in appearance and habits, but are separable on the basis of dorsal \",{\"entities\":[(41,47,\"Distribution_descriptor\")]}),\n",
    "(\"by its black colouration, longer dorsal fin , longer barbels, and greater number oflowerlimb gill rakers and upper procurrent caudal rays. Paraplotosus muelleri and P. \",{\"entities\":[(7,24,\"Distribution_descriptor\")]}),\n",
    "(\"from coastal seas of northwestern Australia. It is clearly distinguishable from congeners \",{\"entities\":[(5,17,\"Distribution_descriptor\"),(5,12,\"Distribution_descriptor\")]}),\n",
    "(\"butleri, new species, is described from 40 specimens, 26-325 mm SL, collected mainly \",{\"entities\":[(54,66,\"Body_size\"),(64,66,\"Body_size\"),(57,66,\"Body_size\")]}),\n",
    "(\"Northern Territory, and an undescribed species from northern Australia. Paraplotosus \",{\"entities\":[]}),\n",
    "(\"Archipelago, P. muelleri (Klunzinger) from north-western Australia and adjacent \",{\"entities\":[]}),\n",
    "(\"species are recognised: P. albilabris (Valenciennes) from the Indo-Australian \",{\"entities\":[]}),\n",
    "(\"The marine catfish genus Paraplotosus Bleeker is reviewed. Three \",{\"entities\":[(4,11,\"Distribution_descriptor\")]}),\n",
    "]\n"
   ]
  },
  {
   "cell_type": "code",
   "execution_count": 121,
   "metadata": {},
   "outputs": [
    {
     "ename": "ValueError",
     "evalue": "[E007] 'ner' already exists in pipeline. Existing names: ['entity_ruler', 'ner']",
     "output_type": "error",
     "traceback": [
      "\u001b[1;31m---------------------------------------------------------------------------\u001b[0m",
      "\u001b[1;31mValueError\u001b[0m                                Traceback (most recent call last)",
      "\u001b[1;32m~\\AppData\\Local\\Temp\\ipykernel_8852\\2219509073.py\u001b[0m in \u001b[0;36m<module>\u001b[1;34m\u001b[0m\n\u001b[0;32m      1\u001b[0m \u001b[1;31m#in order to create training data,custom ner model\u001b[0m\u001b[1;33m\u001b[0m\u001b[1;33m\u001b[0m\u001b[0m\n\u001b[0;32m      2\u001b[0m \u001b[0mnlp\u001b[0m\u001b[1;33m.\u001b[0m\u001b[0mcreate_pipe\u001b[0m\u001b[1;33m(\u001b[0m\u001b[1;34m\"ner\"\u001b[0m\u001b[1;33m)\u001b[0m\u001b[1;33m\u001b[0m\u001b[1;33m\u001b[0m\u001b[0m\n\u001b[1;32m----> 3\u001b[1;33m \u001b[0mnlp\u001b[0m\u001b[1;33m.\u001b[0m\u001b[0madd_pipe\u001b[0m\u001b[1;33m(\u001b[0m\u001b[1;34m\"ner\"\u001b[0m\u001b[1;33m,\u001b[0m\u001b[0mlast\u001b[0m\u001b[1;33m=\u001b[0m\u001b[1;32mTrue\u001b[0m\u001b[1;33m)\u001b[0m\u001b[1;33m\u001b[0m\u001b[1;33m\u001b[0m\u001b[0m\n\u001b[0m",
      "\u001b[1;32mc:\\Users\\melina\\anaconda3\\lib\\site-packages\\spacy\\language.py\u001b[0m in \u001b[0;36madd_pipe\u001b[1;34m(self, factory_name, name, before, after, first, last, source, config, raw_config, validate)\u001b[0m\n\u001b[0;32m    780\u001b[0m         \u001b[0mname\u001b[0m \u001b[1;33m=\u001b[0m \u001b[0mname\u001b[0m \u001b[1;32mif\u001b[0m \u001b[0mname\u001b[0m \u001b[1;32mis\u001b[0m \u001b[1;32mnot\u001b[0m \u001b[1;32mNone\u001b[0m \u001b[1;32melse\u001b[0m \u001b[0mfactory_name\u001b[0m\u001b[1;33m\u001b[0m\u001b[1;33m\u001b[0m\u001b[0m\n\u001b[0;32m    781\u001b[0m         \u001b[1;32mif\u001b[0m \u001b[0mname\u001b[0m \u001b[1;32min\u001b[0m \u001b[0mself\u001b[0m\u001b[1;33m.\u001b[0m\u001b[0mcomponent_names\u001b[0m\u001b[1;33m:\u001b[0m\u001b[1;33m\u001b[0m\u001b[1;33m\u001b[0m\u001b[0m\n\u001b[1;32m--> 782\u001b[1;33m             \u001b[1;32mraise\u001b[0m \u001b[0mValueError\u001b[0m\u001b[1;33m(\u001b[0m\u001b[0mErrors\u001b[0m\u001b[1;33m.\u001b[0m\u001b[0mE007\u001b[0m\u001b[1;33m.\u001b[0m\u001b[0mformat\u001b[0m\u001b[1;33m(\u001b[0m\u001b[0mname\u001b[0m\u001b[1;33m=\u001b[0m\u001b[0mname\u001b[0m\u001b[1;33m,\u001b[0m \u001b[0mopts\u001b[0m\u001b[1;33m=\u001b[0m\u001b[0mself\u001b[0m\u001b[1;33m.\u001b[0m\u001b[0mcomponent_names\u001b[0m\u001b[1;33m)\u001b[0m\u001b[1;33m)\u001b[0m\u001b[1;33m\u001b[0m\u001b[1;33m\u001b[0m\u001b[0m\n\u001b[0m\u001b[0;32m    783\u001b[0m         \u001b[1;31m# Overriding pipe name in the config is not supported and will be ignored.\u001b[0m\u001b[1;33m\u001b[0m\u001b[1;33m\u001b[0m\u001b[0m\n\u001b[0;32m    784\u001b[0m         \u001b[1;32mif\u001b[0m \u001b[1;34m\"name\"\u001b[0m \u001b[1;32min\u001b[0m \u001b[0mconfig\u001b[0m\u001b[1;33m:\u001b[0m\u001b[1;33m\u001b[0m\u001b[1;33m\u001b[0m\u001b[0m\n",
      "\u001b[1;31mValueError\u001b[0m: [E007] 'ner' already exists in pipeline. Existing names: ['entity_ruler', 'ner']"
     ]
    }
   ],
   "source": [
    "#in order to create training data,custom ner model\n",
    "nlp.create_pipe(\"ner\")\n",
    "nlp.add_pipe(\"ner\",last=True)\n"
   ]
  },
  {
   "cell_type": "code",
   "execution_count": 181,
   "metadata": {},
   "outputs": [
    {
     "data": {
      "text/plain": [
       "['tok2vec', 'ner', 'entity_ruler']"
      ]
     },
     "execution_count": 181,
     "metadata": {},
     "output_type": "execute_result"
    }
   ],
   "source": [
    "nlp.pipe_names"
   ]
  },
  {
   "cell_type": "code",
   "execution_count": 123,
   "metadata": {},
   "outputs": [],
   "source": [
    "doc_bin = DocBin()"
   ]
  },
  {
   "cell_type": "code",
   "execution_count": 124,
   "metadata": {},
   "outputs": [
    {
     "name": "stderr",
     "output_type": "stream",
     "text": [
      "100%|██████████| 79/79 [00:00<00:00, 2323.75it/s]"
     ]
    },
    {
     "name": "stdout",
     "output_type": "stream",
     "text": [
      "Skipping entity\n",
      "Skipping entity\n",
      "Skipping entity\n",
      "Skipping entity\n"
     ]
    },
    {
     "name": "stderr",
     "output_type": "stream",
     "text": [
      "\n"
     ]
    }
   ],
   "source": [
    "from spacy.util import filter_spans\n",
    "\n",
    "for training_example in tqdm(TRAIN_DATA): \n",
    "    text = training_example[0]\n",
    "    labels = training_example[1]['entities']\n",
    "    doc = nlp.make_doc(text) \n",
    "    ents = []\n",
    "    for start, end, label in labels:\n",
    "        span = doc.char_span(start, end, label=label, alignment_mode=\"contract\")\n",
    "        if span is None:\n",
    "            print(\"Skipping entity\")\n",
    "        else:\n",
    "            ents.append(span)\n",
    "    filtered_ents = filter_spans(ents)\n",
    "    doc.ents = filtered_ents \n",
    "    doc_bin.add(doc)\n",
    "\n",
    "doc_bin.to_disk(\"train.spacy\")"
   ]
  },
  {
   "cell_type": "code",
   "execution_count": 125,
   "metadata": {},
   "outputs": [
    {
     "name": "stdout",
     "output_type": "stream",
     "text": [
      "✔ Auto-filled config with all values\n",
      "✔ Saved config\n",
      "config.cfg\n",
      "You can now add your data and train your pipeline:\n",
      "python -m spacy train config.cfg --paths.train ./train.spacy --paths.dev ./dev.spacy\n"
     ]
    }
   ],
   "source": [
    "!python -m spacy init fill-config base_config.cfg config.cfg\n"
   ]
  },
  {
   "cell_type": "code",
   "execution_count": 126,
   "metadata": {},
   "outputs": [
    {
     "name": "stdout",
     "output_type": "stream",
     "text": [
      "ℹ Saving to output directory: .\n",
      "ℹ Using CPU\n",
      "\u001b[1m\n",
      "=========================== Initializing pipeline ===========================\u001b[0m\n",
      "✔ Initialized pipeline\n",
      "\u001b[1m\n",
      "============================= Training pipeline =============================\u001b[0m\n",
      "ℹ Pipeline: ['tok2vec', 'ner']\n",
      "ℹ Initial learn rate: 0.001\n",
      "E    #       LOSS TOK2VEC  LOSS NER  ENTS_F  ENTS_P  ENTS_R  SCORE \n",
      "---  ------  ------------  --------  ------  ------  ------  ------\n",
      "  0       0          0.00     51.00    0.00    0.00    0.00    0.00\n",
      " 16     200         28.96   1598.18   97.80   98.23   97.37    0.98\n",
      " 37     400         11.75     76.75  100.00  100.00  100.00    1.00\n",
      " 63     600         14.68     37.47   98.25   98.25   98.25    0.98\n",
      " 94     800         29.53     73.14   98.69   98.26   99.12    0.99\n",
      "133    1000         27.57     44.87  100.00  100.00  100.00    1.00\n",
      "180    1200         36.87     44.17  100.00  100.00  100.00    1.00\n",
      "236    1400         22.35     27.37  100.00  100.00  100.00    1.00\n",
      "303    1600         12.56      9.01  100.00  100.00  100.00    1.00\n",
      "387    1800         59.29     65.05  100.00  100.00  100.00    1.00\n",
      "487    2000         64.28     63.61  100.00  100.00  100.00    1.00\n",
      "✔ Saved pipeline to output directory\n",
      "model-last\n"
     ]
    },
    {
     "name": "stderr",
     "output_type": "stream",
     "text": [
      "[2022-11-21 14:02:28,751] [INFO] Set up nlp object from config\n",
      "[2022-11-21 14:02:28,760] [INFO] Pipeline: ['tok2vec', 'ner']\n",
      "[2022-11-21 14:02:28,763] [INFO] Created vocabulary\n",
      "[2022-11-21 14:02:31,184] [INFO] Added vectors: en_core_web_lg\n",
      "[2022-11-21 14:02:33,894] [INFO] Finished initializing nlp object\n",
      "[2022-11-21 14:02:34,270] [INFO] Initialized pipeline components: ['tok2vec', 'ner']\n"
     ]
    }
   ],
   "source": [
    "import os\n",
    "os.environ['KMP_DUPLICATE_LIB_OK']='True'\n",
    "!python -m spacy train config.cfg --output ./ --paths.train ./train.spacy --paths.dev ./train.spacy"
   ]
  },
  {
   "cell_type": "code",
   "execution_count": 220,
   "metadata": {},
   "outputs": [],
   "source": [
    "nlp_ner=spacy.load(\"model-best\")"
   ]
  },
  {
   "cell_type": "code",
   "execution_count": 221,
   "metadata": {},
   "outputs": [
    {
     "name": "stdout",
     "output_type": "stream",
     "text": [
      "[('SL', 'Body_size', 1, 3, ''), ('marine', 'Distribution_descriptor', 6, 12, ''), ('length', 'Body_size', 27, 33, ''), ('eye diameter', 'Body_size', 38, 50, ''), ('marine', 'Distribution_descriptor', 492, 498, '')]\n"
     ]
    }
   ],
   "source": [
    "\n",
    "doc=nlp_ner(\"Atherinids adult larval are small marine estuary and freshwaters Alpha-Polyhaline Body length (SL) standard length (sl) fishes not exceeding 150 mm SL (a soon to be described species of Craterocephalus may reach 300 mm SL), occurring predominantly in the Old World, with only Alepidomus evermanni (freshwaters of Cuba) and two marine species, Atherinomorus stipes and Hypoatherina harringtonensis predominantly in the shore waters of the Caribbean) known from the New World. In the Southeast Pacific, the family is only known only from Tumaco, Colombia, according to Dyer. All freshwater atherinid species are derived from marine ancestors and until recently have only been known from the rivers of Australia, New Guinea and some islands in the vicinity of the latter.\")\n",
    "paper=nlp_ner(\"(SL), marine Salinity head length and eye diameter. Counts were madeusingthetechniquerecommendedbyHubbs & Lagler (1958) so as to make comparisons with previously described atherinid species. Two speci�mens were cleared and stained usingthe method of Taylor (1967), Taylor & Vandyke (1985) and Dingerkus & Uhler (1977). These were measured and counted prior to clearing. Drawings were made with the assistance of a stereomicroscope. Osteological comparisons were made with repre�sentatives of marine Indo-Pacific atherinds and an atherionid (Table II). Specimens collected by H. Bleher�s party were deposited in the Australian Museum Sydney, those borrowed from the MNHN were returned to that institution. All of the specimens that have been examined are desig�nated as types.\")\n",
    "\n",
    "print([(ent.text, ent.label_ ,ent.start_char, ent.end_char, ent.ent_id_) for ent in paper.ents])\n"
   ]
  },
  {
   "cell_type": "code",
   "execution_count": 224,
   "metadata": {},
   "outputs": [
    {
     "data": {
      "text/plain": [
       "['tok2vec', 'ner', 'entity_ruler']"
      ]
     },
     "execution_count": 224,
     "metadata": {},
     "output_type": "execute_result"
    }
   ],
   "source": [
    "nlp_ner.pipe_names"
   ]
  },
  {
   "cell_type": "code",
   "execution_count": 223,
   "metadata": {},
   "outputs": [],
   "source": [
    "#in order to put the entity_ruler into nlp_ner pipeline\n",
    "#entity ruler's patterns(entities) evaluate only if they are not annotaded in training data, so the ”entity_ruler” will only add new entities that match to the patterns only if they don’t overlap with existing entities predicted by the statistical model\n",
    "#QUEST PWS THA EPISTREFOUME TO LINK AN EINAI APO TRAINING ?PROS TO PARON TO EPISTREFOUME APO TO ENTITY RULER mono se auta pou den exoun oristei apo training loipon\n",
    "\n",
    "if \"entity_ruler\" not in nlp_ner.pipe_names:\n",
    "    ruler=nlp_ner.add_pipe(\"entity_ruler\")\n",
    "\n",
    "def dict_func(df,linkdf,label):\n",
    "    patterns=[]\n",
    "    j=0\n",
    "    for i in df:\n",
    "        dict={\"label\":label}\n",
    "        dict[\"pattern\"]=i #[{\"LOWER\" : str.lower(i)}]\n",
    "        dict[\"id\"]=linkdf[[1]][1][j]\n",
    "        patterns.append(dict)\n",
    "        j=j+1\n",
    "    ruler.add_patterns(patterns)\n",
    "\n",
    "dict_func(df_distr_descr,df,\"Distribution Descriptor\")\n",
    "dict_func(df_life_stages,df1,\"Life Stage\")\n",
    "dict_func(df_body_size,df2,\"Body Size\")\n",
    "#dict_func(df_biol_descr,\"Biological Descriptor\")"
   ]
  },
  {
   "cell_type": "code",
   "execution_count": 225,
   "metadata": {},
   "outputs": [
    {
     "name": "stdout",
     "output_type": "stream",
     "text": [
      "[('SL', 'Body_size', 1, 3, ''), ('marine', 'Distribution_descriptor', 6, 12, ''), ('Salinity', 'Distribution Descriptor', 13, 21, 'https://www.marinespecies.org/traits/wiki/Traits:Salinity'), ('length', 'Body_size', 27, 33, ''), ('eye diameter', 'Body_size', 38, 50, ''), ('marine', 'Distribution_descriptor', 492, 498, '')]\n"
     ]
    }
   ],
   "source": [
    "doc=nlp_ner(\"Atherinids adult larval are small marine estuary and freshwaters Alpha-Polyhaline Body length (SL) standard length (sl) fishes not exceeding 150 mm SL (a soon to be described species of Craterocephalus may reach 300 mm SL), occurring predominantly in the Old World, with only Alepidomus evermanni (freshwaters of Cuba) and two marine species, Atherinomorus stipes and Hypoatherina harringtonensis predominantly in the shore waters of the Caribbean) known from the New World. In the Southeast Pacific, the family is only known only from Tumaco, Colombia, according to Dyer. All freshwater atherinid species are derived from marine ancestors and until recently have only been known from the rivers of Australia, New Guinea and some islands in the vicinity of the latter.\")\n",
    "paper=nlp_ner(\"(SL), marine Salinity head length and eye diameter. Counts were madeusingthetechniquerecommendedbyHubbs & Lagler (1958) so as to make comparisons with previously described atherinid species. Two speci�mens were cleared and stained usingthe method of Taylor (1967), Taylor & Vandyke (1985) and Dingerkus & Uhler (1977). These were measured and counted prior to clearing. Drawings were made with the assistance of a stereomicroscope. Osteological comparisons were made with repre�sentatives of marine Indo-Pacific atherinds and an atherionid (Table II). Specimens collected by H. Bleher�s party were deposited in the Australian Museum Sydney, those borrowed from the MNHN were returned to that institution. All of the specimens that have been examined are desig�nated as types.\")\n",
    "\n",
    "print([(ent.text, ent.label_ ,ent.start_char, ent.end_char, ent.ent_id_) for ent in paper.ents])\n",
    "\n"
   ]
  },
  {
   "cell_type": "code",
   "execution_count": 226,
   "metadata": {},
   "outputs": [],
   "source": [
    "#psaxnw gia to pws tha valoume na epistrefei link me plhroforia\n",
    "# nlp_ner.add_pipe(\"entity_linker\", last=True)\n",
    "\n",
    "# all_linked_entities = paper._.linkedEntities\n",
    "# # iterates over sentences and prints linked entities\n",
    "# for sent in doc.sents:\n",
    "#     sent._.linkedEntities.pretty_print()"
   ]
  },
  {
   "cell_type": "code",
   "execution_count": null,
   "metadata": {},
   "outputs": [],
   "source": []
  }
 ],
 "metadata": {
  "kernelspec": {
   "display_name": "Python 3.9.13 64-bit",
   "language": "python",
   "name": "python3"
  },
  "language_info": {
   "codemirror_mode": {
    "name": "ipython",
    "version": 3
   },
   "file_extension": ".py",
   "mimetype": "text/x-python",
   "name": "python",
   "nbconvert_exporter": "python",
   "pygments_lexer": "ipython3",
   "version": "3.9.13"
  },
  "orig_nbformat": 4,
  "vscode": {
   "interpreter": {
    "hash": "94e7e65be05b4ed6ba93e18d7d6886bab5ac9fc35747516c0d44d14f8ddf2d8d"
   }
  }
 },
 "nbformat": 4,
 "nbformat_minor": 2
}
